{
 "cells": [
  {
   "cell_type": "code",
   "execution_count": 18,
   "id": "74f4db73",
   "metadata": {},
   "outputs": [],
   "source": [
    "import numpy as np\n",
    "import matplotlib.pyplot as plt"
   ]
  },
  {
   "cell_type": "markdown",
   "id": "d1fc6914",
   "metadata": {},
   "source": [
    "## Part 1"
   ]
  },
  {
   "cell_type": "markdown",
   "id": "d9cc3042",
   "metadata": {},
   "source": [
    "#### Exercise 1"
   ]
  },
  {
   "cell_type": "code",
   "execution_count": 19,
   "id": "4e96d277",
   "metadata": {
    "scrolled": true
   },
   "outputs": [
    {
     "data": {
      "text/plain": [
       "5"
      ]
     },
     "execution_count": 19,
     "metadata": {},
     "output_type": "execute_result"
    }
   ],
   "source": [
    "sugar_range = np.random.randint(11)\n",
    "sugar_range"
   ]
  },
  {
   "cell_type": "markdown",
   "id": "1ddc8923",
   "metadata": {},
   "source": [
    "#### Exercise 2"
   ]
  },
  {
   "cell_type": "code",
   "execution_count": 20,
   "id": "a26e0d1e",
   "metadata": {},
   "outputs": [
    {
     "data": {
      "text/plain": [
       "array([[4, 5, 0, 4, 0, 5, 5, 3, 4, 0, 1, 2, 1, 3, 1, 0, 1, 1, 3, 4, 1],\n",
       "       [5, 1, 3, 4, 1, 3, 4, 0, 1, 2, 0, 1, 2, 2, 2, 4, 3, 4, 0, 5, 4],\n",
       "       [0, 5, 5, 1, 1, 0, 0, 0, 1, 5, 2, 0, 1, 3, 5, 3, 1, 4, 2, 2, 1],\n",
       "       [5, 1, 2, 1, 1, 1, 1, 2, 2, 3, 0, 2, 1, 0, 4, 1, 2, 2, 4, 0, 5],\n",
       "       [5, 3, 2, 1, 0, 3, 2, 0, 1, 0, 1, 1, 0, 1, 1, 0, 2, 2, 3, 0, 0],\n",
       "       [2, 4, 0, 0, 5, 1, 4, 0, 2, 4, 5, 1, 4, 0, 3, 0, 4, 2, 1, 4, 2],\n",
       "       [4, 1, 4, 2, 2, 2, 0, 3, 0, 3, 0, 5, 4, 5, 0, 3, 3, 3, 0, 4, 5],\n",
       "       [2, 4, 4, 3, 2, 2, 1, 4, 4, 4, 5, 0, 5, 1, 4, 1, 2, 4, 0, 0, 1],\n",
       "       [0, 3, 1, 3, 2, 5, 1, 3, 3, 2, 4, 2, 5, 4, 1, 1, 4, 1, 4, 1, 1],\n",
       "       [5, 3, 0, 4, 3, 5, 2, 5, 3, 1, 3, 3, 5, 0, 2, 5, 5, 2, 4, 0, 2],\n",
       "       [3, 1, 3, 5, 1, 2, 2, 5, 1, 3, 3, 5, 4, 0, 2, 2, 2, 1, 4, 4, 5],\n",
       "       [1, 5, 2, 1, 0, 1, 0, 4, 4, 1, 5, 0, 5, 0, 3, 3, 2, 4, 4, 1, 2],\n",
       "       [2, 3, 5, 2, 5, 5, 0, 2, 3, 3, 5, 0, 1, 2, 5, 4, 4, 4, 4, 5, 3],\n",
       "       [4, 5, 4, 1, 1, 0, 2, 1, 0, 1, 4, 1, 1, 3, 2, 1, 1, 5, 1, 0, 1],\n",
       "       [1, 4, 1, 4, 4, 0, 3, 4, 5, 1, 5, 3, 0, 1, 2, 4, 2, 4, 5, 2, 4],\n",
       "       [5, 4, 0, 3, 0, 3, 1, 2, 5, 4, 0, 1, 0, 1, 5, 4, 5, 2, 5, 2, 1]])"
      ]
     },
     "execution_count": 20,
     "metadata": {},
     "output_type": "execute_result"
    }
   ],
   "source": [
    "table = np.random.randint(sugar_range+1,size=(16,21))\n",
    "table"
   ]
  },
  {
   "cell_type": "markdown",
   "id": "80c5f23e",
   "metadata": {},
   "source": [
    "#### Exercise 3"
   ]
  },
  {
   "cell_type": "code",
   "execution_count": 21,
   "id": "6f817756",
   "metadata": {},
   "outputs": [],
   "source": [
    "def get_sugar_avg(arr):\n",
    "    return arr.mean(1) # 0 = column , 1 = row"
   ]
  },
  {
   "cell_type": "markdown",
   "id": "ac208ebf",
   "metadata": {},
   "source": [
    "#### Exercise 4"
   ]
  },
  {
   "cell_type": "code",
   "execution_count": 22,
   "id": "438978fc",
   "metadata": {},
   "outputs": [
    {
     "data": {
      "text/plain": [
       "array([2.28571429, 2.42857143, 2.        , 1.9047619 , 1.33333333,\n",
       "       2.28571429, 2.52380952, 2.52380952, 2.42857143, 2.95238095,\n",
       "       2.76190476, 2.28571429, 3.19047619, 1.85714286, 2.80952381,\n",
       "       2.52380952])"
      ]
     },
     "execution_count": 22,
     "metadata": {},
     "output_type": "execute_result"
    }
   ],
   "source": [
    "result = get_sugar_avg(table)\n",
    "result"
   ]
  },
  {
   "cell_type": "code",
   "execution_count": 23,
   "id": "bddbf9d8",
   "metadata": {},
   "outputs": [
    {
     "data": {
      "text/plain": [
       "(16,)"
      ]
     },
     "execution_count": 23,
     "metadata": {},
     "output_type": "execute_result"
    }
   ],
   "source": [
    "result.shape"
   ]
  },
  {
   "cell_type": "markdown",
   "id": "f5978877",
   "metadata": {},
   "source": [
    "#### Exercise 5"
   ]
  },
  {
   "cell_type": "code",
   "execution_count": 24,
   "id": "bae414be",
   "metadata": {},
   "outputs": [
    {
     "data": {
      "text/plain": [
       "array([0.23238285, 0.31699119, 1.62698405, 1.12923303, 1.1738932 ,\n",
       "       0.0844663 , 0.95511366, 2.30584501, 1.60081743, 1.95345196,\n",
       "       0.69390111, 0.82214595, 0.69701625, 0.74243359, 0.2659024 ,\n",
       "       0.26477621])"
      ]
     },
     "execution_count": 24,
     "metadata": {},
     "output_type": "execute_result"
    }
   ],
   "source": [
    "patients_avg_time = np.random.exponential(size=16)\n",
    "patients_avg_time"
   ]
  },
  {
   "cell_type": "code",
   "execution_count": 25,
   "id": "5d7163d0",
   "metadata": {},
   "outputs": [
    {
     "data": {
      "text/plain": [
       "(16,)"
      ]
     },
     "execution_count": 25,
     "metadata": {},
     "output_type": "execute_result"
    }
   ],
   "source": [
    "patients_avg_time.shape"
   ]
  },
  {
   "cell_type": "markdown",
   "id": "f56b65a7",
   "metadata": {},
   "source": [
    "## Part 2"
   ]
  },
  {
   "cell_type": "markdown",
   "id": "0988eccb",
   "metadata": {},
   "source": [
    "#### Exercise 1"
   ]
  },
  {
   "cell_type": "code",
   "execution_count": 26,
   "id": "b1388089",
   "metadata": {},
   "outputs": [],
   "source": [
    "def max_sugar_day(arr):\n",
    "    return np.argmax(arr.mean(0))+1"
   ]
  },
  {
   "cell_type": "markdown",
   "id": "12f3866d",
   "metadata": {},
   "source": [
    "#### Exercise 2"
   ]
  },
  {
   "cell_type": "code",
   "execution_count": 27,
   "id": "9d9e9411",
   "metadata": {},
   "outputs": [],
   "source": [
    "def max_sugar_patient(arr):\n",
    "    return np.argmax(result)+1"
   ]
  },
  {
   "cell_type": "markdown",
   "id": "8ff7d2e3",
   "metadata": {},
   "source": [
    "#### Exercise 3"
   ]
  },
  {
   "cell_type": "code",
   "execution_count": 28,
   "id": "1ba0f33d",
   "metadata": {},
   "outputs": [],
   "source": [
    "def get_max_time_patient(arr):\n",
    "    return np.argmax(arr)+1"
   ]
  },
  {
   "cell_type": "markdown",
   "id": "6d099dca",
   "metadata": {},
   "source": [
    "#### Exercise 4"
   ]
  },
  {
   "cell_type": "code",
   "execution_count": 29,
   "id": "f3a2dd54",
   "metadata": {},
   "outputs": [],
   "source": [
    "num_range = np.random.randint(sugar_range)\n",
    "def count_item(matrix,num):\n",
    "    return np.sum(matrix == num)"
   ]
  },
  {
   "cell_type": "markdown",
   "id": "29ddd725",
   "metadata": {},
   "source": [
    "#### Exercise 5"
   ]
  },
  {
   "cell_type": "code",
   "execution_count": 30,
   "id": "809b0eaf",
   "metadata": {},
   "outputs": [],
   "source": [
    "def cumulative_sugar(matrix):\n",
    "    return np.cumsum(matrix,1)"
   ]
  },
  {
   "cell_type": "markdown",
   "id": "a9f73419",
   "metadata": {},
   "source": [
    "#### Exercise 6"
   ]
  },
  {
   "cell_type": "code",
   "execution_count": 31,
   "id": "cf657327",
   "metadata": {},
   "outputs": [
    {
     "data": {
      "text/plain": [
       "2"
      ]
     },
     "execution_count": 31,
     "metadata": {},
     "output_type": "execute_result"
    }
   ],
   "source": [
    "max_sugar = max_sugar_day(table)\n",
    "max_sugar"
   ]
  },
  {
   "cell_type": "code",
   "execution_count": 32,
   "id": "90686d15",
   "metadata": {},
   "outputs": [
    {
     "data": {
      "text/plain": [
       "13"
      ]
     },
     "execution_count": 32,
     "metadata": {},
     "output_type": "execute_result"
    }
   ],
   "source": [
    "tester = max_sugar_patient(table)\n",
    "tester"
   ]
  },
  {
   "cell_type": "code",
   "execution_count": 33,
   "id": "bec0af98",
   "metadata": {},
   "outputs": [
    {
     "data": {
      "text/plain": [
       "8"
      ]
     },
     "execution_count": 33,
     "metadata": {},
     "output_type": "execute_result"
    }
   ],
   "source": [
    "max_time_patient = get_max_time_patient(patients_avg_time)\n",
    "max_time_patient"
   ]
  },
  {
   "cell_type": "code",
   "execution_count": 34,
   "id": "d69d15e5",
   "metadata": {},
   "outputs": [
    {
     "data": {
      "text/plain": [
       "73"
      ]
     },
     "execution_count": 34,
     "metadata": {},
     "output_type": "execute_result"
    }
   ],
   "source": [
    "count_item(table,num_range)"
   ]
  },
  {
   "cell_type": "code",
   "execution_count": 35,
   "id": "6825153e",
   "metadata": {},
   "outputs": [
    {
     "data": {
      "text/plain": [
       "array([[ 4,  9,  9, 13, 13, 18, 23, 26, 30, 30, 31, 33, 34, 37, 38, 38,\n",
       "        39, 40, 43, 47, 48],\n",
       "       [ 5,  6,  9, 13, 14, 17, 21, 21, 22, 24, 24, 25, 27, 29, 31, 35,\n",
       "        38, 42, 42, 47, 51],\n",
       "       [ 0,  5, 10, 11, 12, 12, 12, 12, 13, 18, 20, 20, 21, 24, 29, 32,\n",
       "        33, 37, 39, 41, 42],\n",
       "       [ 5,  6,  8,  9, 10, 11, 12, 14, 16, 19, 19, 21, 22, 22, 26, 27,\n",
       "        29, 31, 35, 35, 40],\n",
       "       [ 5,  8, 10, 11, 11, 14, 16, 16, 17, 17, 18, 19, 19, 20, 21, 21,\n",
       "        23, 25, 28, 28, 28],\n",
       "       [ 2,  6,  6,  6, 11, 12, 16, 16, 18, 22, 27, 28, 32, 32, 35, 35,\n",
       "        39, 41, 42, 46, 48],\n",
       "       [ 4,  5,  9, 11, 13, 15, 15, 18, 18, 21, 21, 26, 30, 35, 35, 38,\n",
       "        41, 44, 44, 48, 53],\n",
       "       [ 2,  6, 10, 13, 15, 17, 18, 22, 26, 30, 35, 35, 40, 41, 45, 46,\n",
       "        48, 52, 52, 52, 53],\n",
       "       [ 0,  3,  4,  7,  9, 14, 15, 18, 21, 23, 27, 29, 34, 38, 39, 40,\n",
       "        44, 45, 49, 50, 51],\n",
       "       [ 5,  8,  8, 12, 15, 20, 22, 27, 30, 31, 34, 37, 42, 42, 44, 49,\n",
       "        54, 56, 60, 60, 62],\n",
       "       [ 3,  4,  7, 12, 13, 15, 17, 22, 23, 26, 29, 34, 38, 38, 40, 42,\n",
       "        44, 45, 49, 53, 58],\n",
       "       [ 1,  6,  8,  9,  9, 10, 10, 14, 18, 19, 24, 24, 29, 29, 32, 35,\n",
       "        37, 41, 45, 46, 48],\n",
       "       [ 2,  5, 10, 12, 17, 22, 22, 24, 27, 30, 35, 35, 36, 38, 43, 47,\n",
       "        51, 55, 59, 64, 67],\n",
       "       [ 4,  9, 13, 14, 15, 15, 17, 18, 18, 19, 23, 24, 25, 28, 30, 31,\n",
       "        32, 37, 38, 38, 39],\n",
       "       [ 1,  5,  6, 10, 14, 14, 17, 21, 26, 27, 32, 35, 35, 36, 38, 42,\n",
       "        44, 48, 53, 55, 59],\n",
       "       [ 5,  9,  9, 12, 12, 15, 16, 18, 23, 27, 27, 28, 28, 29, 34, 38,\n",
       "        43, 45, 50, 52, 53]], dtype=int32)"
      ]
     },
     "execution_count": 35,
     "metadata": {},
     "output_type": "execute_result"
    }
   ],
   "source": [
    "cumulative_array = cumulative_sugar(table)\n",
    "cumulative_array"
   ]
  },
  {
   "cell_type": "markdown",
   "id": "0be20f6d",
   "metadata": {},
   "source": [
    "## Part 3"
   ]
  },
  {
   "cell_type": "markdown",
   "id": "c0aaf936",
   "metadata": {},
   "source": [
    "#### Exercise 1"
   ]
  },
  {
   "cell_type": "code",
   "execution_count": 36,
   "id": "90aaa72e",
   "metadata": {
    "scrolled": false
   },
   "outputs": [
    {
     "data": {
      "image/png": "[encoded data removed]",
      "text/plain": [
       "<Figure size 432x288 with 1 Axes>"
      ]
     },
     "metadata": {
      "needs_background": "light"
     },
     "output_type": "display_data"
    }
   ],
   "source": [
    "def sugar_day(arr):\n",
    "    return arr.mean(0) \n",
    "y=sugar_day(table)\n",
    "x=range(1,len(y)+1)\n",
    "plt.bar(x,y, width=1 , edgecolor=\"w\", color=\"maroon\" , linewidth=1)\n",
    "plt.xlabel('Day')\n",
    "plt.ylabel('Sugar level')\n",
    "plt.title('Daily sugar level')\n",
    "plt.grid()\n",
    "plt.show()"
   ]
  },
  {
   "cell_type": "code",
   "execution_count": 37,
   "id": "07a9a2d4",
   "metadata": {},
   "outputs": [
    {
     "data": {
      "image/png": "[encoded data removed]",
      "text/plain": [
       "<Figure size 432x288 with 1 Axes>"
      ]
     },
     "metadata": {
      "needs_background": "light"
     },
     "output_type": "display_data"
    }
   ],
   "source": [
    "y=result\n",
    "x=range(1,len(y)+1)\n",
    "plt.bar(x,y, width=1 , edgecolor=\"w\", color=\"aqua\" , linewidth=1)\n",
    "plt.xlabel('Patient')\n",
    "plt.ylabel('Sugar level')\n",
    "plt.title('Patients sugar level')\n",
    "plt.grid()\n",
    "plt.show()"
   ]
  },
  {
   "cell_type": "code",
   "execution_count": 38,
   "id": "009c8dd3",
   "metadata": {
    "scrolled": false
   },
   "outputs": [
    {
     "data": {
      "image/png": "[encoded data removed]",
      "text/plain": [
       "<Figure size 432x288 with 1 Axes>"
      ]
     },
     "metadata": {
      "needs_background": "light"
     },
     "output_type": "display_data"
    }
   ],
   "source": [
    "y=patients_avg_time\n",
    "x=range(1,len(y)+1)\n",
    "plt.bar(x,y, width=1 , edgecolor=\"w\", color=\"lime\" , linewidth=1)\n",
    "plt.xlabel('Patient')\n",
    "plt.ylabel('Time')\n",
    "plt.title('Patients time')\n",
    "plt.grid()\n",
    "plt.show()"
   ]
  },
  {
   "cell_type": "markdown",
   "id": "b7e8f9e1",
   "metadata": {},
   "source": [
    "#### Exercise 2"
   ]
  },
  {
   "cell_type": "markdown",
   "id": "cbe5349d",
   "metadata": {},
   "source": [
    "##### Section a"
   ]
  },
  {
   "cell_type": "code",
   "execution_count": 39,
   "id": "c3e191fb",
   "metadata": {},
   "outputs": [],
   "source": [
    "labels = (\"Ferrari\",\"Lamborghini\",\"Ford\",\"Kia\",\"Honda\",\"Maserati\")"
   ]
  },
  {
   "cell_type": "markdown",
   "id": "58aa4d19",
   "metadata": {},
   "source": [
    "##### Section b"
   ]
  },
  {
   "cell_type": "code",
   "execution_count": 40,
   "id": "622c679e",
   "metadata": {},
   "outputs": [],
   "source": [
    "sizes = [13,15,7,23,11,31]"
   ]
  },
  {
   "cell_type": "markdown",
   "id": "52de9c46",
   "metadata": {},
   "source": [
    "##### Section c"
   ]
  },
  {
   "cell_type": "code",
   "execution_count": 48,
   "id": "71a44354",
   "metadata": {},
   "outputs": [],
   "source": [
    "explode = (0,0,0.1,0,0,0)"
   ]
  },
  {
   "cell_type": "markdown",
   "id": "bf4af1f0",
   "metadata": {},
   "source": [
    "##### Section d"
   ]
  },
  {
   "cell_type": "code",
   "execution_count": 49,
   "id": "9a70b17f",
   "metadata": {
    "scrolled": true
   },
   "outputs": [
    {
     "data": {
      "image/png": "[encoded data removed]",
      "text/plain": [
       "<Figure size 432x288 with 1 Axes>"
      ]
     },
     "metadata": {},
     "output_type": "display_data"
    }
   ],
   "source": [
    "plt.pie(sizes,explode,labels,autopct=\"%1.1f%%\")\n",
    "plt.title('Cars')\n",
    "plt.show()"
   ]
  },
  {
   "cell_type": "markdown",
   "id": "89bfe5db",
   "metadata": {},
   "source": [
    "##### Section e"
   ]
  },
  {
   "cell_type": "markdown",
   "id": "2311634c",
   "metadata": {},
   "source": [
    "sizes = הנתח של כל חלק בגרף"
   ]
  },
  {
   "cell_type": "markdown",
   "id": "2a7e696b",
   "metadata": {},
   "source": [
    "explode = השליטה להוציא חלק החוצה לפי בחירה"
   ]
  },
  {
   "cell_type": "markdown",
   "id": "dd6c80ae",
   "metadata": {},
   "source": [
    "##### Section f"
   ]
  },
  {
   "cell_type": "code",
   "execution_count": 52,
   "id": "5c97bf7d",
   "metadata": {
    "scrolled": true
   },
   "outputs": [
    {
     "data": {
      "text/plain": [
       "array([6.   , 6.375, 5.25 , 5.   , 3.5  , 6.   , 6.625, 6.625, 6.375,\n",
       "       7.75 , 7.25 , 6.   , 8.375, 4.875, 7.375, 6.625])"
      ]
     },
     "execution_count": 52,
     "metadata": {},
     "output_type": "execute_result"
    }
   ],
   "source": [
    "result_percent = result*100/(np.sum(result))\n",
    "result_percent"
   ]
  },
  {
   "cell_type": "code",
   "execution_count": 44,
   "id": "ade405cd",
   "metadata": {},
   "outputs": [
    {
     "data": {
      "image/png": "[encoded data removed]",
      "text/plain": [
       "<Figure size 432x288 with 1 Axes>"
      ]
     },
     "metadata": {},
     "output_type": "display_data"
    }
   ],
   "source": [
    "y=range(1,len(result_percent)+1)\n",
    "plt.pie(result_percent,labels=y,radius=1.5,autopct=\"%1.1f%%\")\n",
    "plt.title('Patients sugar level')\n",
    "plt.show()"
   ]
  },
  {
   "cell_type": "code",
   "execution_count": null,
   "id": "d9ee2a34",
   "metadata": {},
   "outputs": [],
   "source": []
  }
 ],
 "metadata": {
  "kernelspec": {
   "display_name": "Python 3 (ipykernel)",
   "language": "python",
   "name": "python3"
  },
  "language_info": {
   "codemirror_mode": {
    "name": "ipython",
    "version": 3
   },
   "file_extension": ".py",
   "mimetype": "text/x-python",
   "name": "python",
   "nbconvert_exporter": "python",
   "pygments_lexer": "ipython3",
   "version": "3.9.12"
  }
 },
 "nbformat": 4,
 "nbformat_minor": 5
}
